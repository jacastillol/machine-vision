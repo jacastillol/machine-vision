{
 "cells": [
  {
   "cell_type": "markdown",
   "metadata": {
    "collapsed": true
   },
   "source": [
    "<p style=\"font-size:300%; background-color:gray; color:white; text-align:center;line-height : 80px; margin : 0; padding : 0;\">\n",
    "Tarea 2. Transformacion de Imagenes en el Dominio Espacial</p>\n",
    "<p style=\"font-size:240%; background-color:gray; color:white; text-align:center;line-height : 60px; margin : 0; padding : 0;\">\n",
    "Visión de Máquina</p1>\n",
    "\n",
    "<p style=\"font-size:200%; text-align:center; line-height : 40px;  margin-top : 0; margin-bottom : 0; \"> <br>Jefferson Javier Hernandez Panqueba</p>\n",
    "<p style=\"font-size:160%; text-align:center; line-height : 20px; margin-top : 0; \"> email: jejhernandezpa@unal.edu.co</p>\n",
    "<p style=\"font-size:200%; text-align:center; line-height : 40px;  margin-top : 0; margin-bottom : 0; \"> \n",
    "<br>Jaime Andrés Castillo León</p>\n",
    "<p style=\"font-size:160%; text-align:center; line-height : 20px; margin-top : 0; \"> email:jacastillol@unal.edu.co</p>\n",
    "<p style=\"font-size:180%; text-align:center; line-height : 30px;  margin-top : 0; margin-bottom : 0; \"> <br><p style=\"font-size:160%; text-align:center; line-height : 30px; margin-top : 0; \"> <br>25 de Febrero de 2018</p>"
   ]
  },
  {
   "cell_type": "markdown",
   "metadata": {},
   "source": [
    "<h1 style=\"font-size:200%; background-color:gray; color:white; text-align:center; line-height : 60px;\">\n",
    "Contenido </h1>\n",
    "\n",
    "<ol style=\"font-size:120%; line-height : 35px;\">\n",
    "    <li>\n",
    "        <h3>Buscar o implementar un código para determinar, en el caso de señales bidimensionales, alguna de las siguientes transformadas:</h3>\n",
    "        <ul>\n",
    "            <li>Tranformada de Hartley.</li>\n",
    "            <li>Transformada de Walsh-Hadamard.</li>\n",
    "       </ul>\n",
    "    </li>\n",
    "    <li>\n",
    "        <h3>Analize detalladamente el comportamiento, de al menos cuatro transformadas, cuando son empleadas para compresion de imagenes. Utilice imagenes reales y sintéticas.</h3>\n",
    "    </li>\n",
    "    <li>\n",
    "        <h3>Analice el comportamiento de cuatro transformadas cuando son empleadas para la reducción de ruido</h3>\n",
    "    </li>\n",
    "</ol>\n",
    "\n",
    "\n",
    "<h1 style=\"font-size:100%; background-color:rgba(150, 150, 150, 1.0); color:white; text-align:center; line-height : 30px;\">\n",
    "Visión de Máquina &#8212; J.J. Hernandez & J.A. Castillo </h1>"
   ]
  },
  {
   "cell_type": "code",
   "execution_count": null,
   "metadata": {
    "collapsed": true
   },
   "outputs": [],
   "source": []
  }
 ],
 "metadata": {
  "kernelspec": {
   "display_name": "Python [default]",
   "language": "python",
   "name": "python3"
  },
  "language_info": {
   "codemirror_mode": {
    "name": "ipython",
    "version": 3
   },
   "file_extension": ".py",
   "mimetype": "text/x-python",
   "name": "python",
   "nbconvert_exporter": "python",
   "pygments_lexer": "ipython3",
   "version": "3.5.4"
  }
 },
 "nbformat": 4,
 "nbformat_minor": 0
}
