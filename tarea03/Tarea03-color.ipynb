{
 "cells": [
  {
   "cell_type": "markdown",
   "metadata": {},
   "source": [
    "<p style=\"font-size:300%; background-color:gray; color:white; text-align:center;line-height : 80px; margin : 0; padding : 0;\">\n",
    "Tarea 3. Espacios de Color</p>\n",
    "<p style=\"font-size:240%; background-color:gray; color:white; text-align:center;line-height : 60px; margin : 0; padding : 0;\">\n",
    "Visión de Máquina</p1>\n",
    "\n",
    "<p style=\"font-size:200%; text-align:center; line-height : 40px;  margin-top : 0; margin-bottom : 0; \"> <br>Jefferson Javier Hernández Panqueba</p>\n",
    "<p style=\"font-size:160%; text-align:center; line-height : 20px; margin-top : 0; \"> email: jejhernandezpa@unal.edu.co</p>\n",
    "<p style=\"font-size:200%; text-align:center; line-height : 40px;  margin-top : 0; margin-bottom : 0; \"> \n",
    "<br>Jaime Andrés Castillo León</p>\n",
    "<p style=\"font-size:160%; text-align:center; line-height : 20px; margin-top : 0; \"> email:jacastillol@unal.edu.co</p>\n",
    "<p style=\"font-size:180%; text-align:center; line-height : 30px;  margin-top : 0; margin-bottom : 0; \"> <br><p style=\"font-size:160%; text-align:center; line-height : 30px; margin-top : 0; \"> <br>28 de Febrero de 2018</p>"
   ]
  },
  {
   "cell_type": "markdown",
   "metadata": {},
   "source": [
    "<h1 style=\"font-size:200%; background-color:gray; color:white; text-align:center; line-height : 60px;\">\n",
    "Contenido </h1>\n",
    "\n",
    "<ol style=\"font-size:120%; line-height : 35px;\">\n",
    "<li>\n",
    "    <h3>Estudiar los diferentes espacios de color que tiene OpenCV, utilizando imágenes de su proyecto.</h3>\n",
    "</li>\n",
    "<li>\n",
    "    <h3>Implementar, como una función para OpenCV, las conversiones entre los espacios de color siguientes:</h3>\n",
    "    <ul>\n",
    "        <li>RGB a LUX y su inversa.</li>\n",
    "        <li>RGB a OHTAy su inversa.</li>\n",
    "    </ul>\n",
    "    evaluarlas en su proyecto o en aplicaciones a detección de rostros y de segmentación de productos, respectivamente\n",
    "</li>\n",
    "</ol>\n",
    "\n",
    "\n",
    "<h1 style=\"font-size:100%; background-color:rgba(150, 150, 150, 1.0); color:white; text-align:center; line-height : 30px;\">\n",
    "Visión de Máquina &#8212; J.J. Hernández & J.A. Castillo </h1>"
   ]
  },
  {
   "cell_type": "code",
   "execution_count": null,
   "metadata": {
    "collapsed": true
   },
   "outputs": [],
   "source": []
  }
 ],
 "metadata": {
  "kernelspec": {
   "display_name": "Python 2",
   "language": "python",
   "name": "python2"
  },
  "language_info": {
   "codemirror_mode": {
    "name": "ipython",
    "version": 2
   },
   "file_extension": ".py",
   "mimetype": "text/x-python",
   "name": "python",
   "nbconvert_exporter": "python",
   "pygments_lexer": "ipython2",
   "version": "2.7.12"
  }
 },
 "nbformat": 4,
 "nbformat_minor": 1
}
