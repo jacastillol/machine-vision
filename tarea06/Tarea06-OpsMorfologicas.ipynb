{
 "cells": [
  {
   "cell_type": "markdown",
   "metadata": {},
   "source": [
    "<p style=\"font-size:300%; background-color:gray; color:white; text-align:center;line-height : 80px; margin : 0; padding : 0;\">\n",
    "Tarea 6. Operaciones Morfológicas en Imagenes</p>\n",
    "<p style=\"font-size:240%; background-color:gray; color:white; text-align:center;line-height : 60px; margin : 0; padding : 0;\">\n",
    "Visión de Máquina</p1>\n",
    "\n",
    "<p style=\"font-size:200%; text-align:center; line-height : 40px;  margin-top : 0; margin-bottom : 0; \"> <br>Jefferson Javier Hernández Panqueba</p>\n",
    "<p style=\"font-size:160%; text-align:center; line-height : 20px; margin-top : 0; \"> email: jejhernandezpa@unal.edu.co</p>\n",
    "<p style=\"font-size:200%; text-align:center; line-height : 40px;  margin-top : 0; margin-bottom : 0; \"> \n",
    "<br>Jaime Andrés Castillo León</p>\n",
    "<p style=\"font-size:160%; text-align:center; line-height : 20px; margin-top : 0; \"> email:jacastillol@unal.edu.co</p>\n",
    "<p style=\"font-size:180%; text-align:center; line-height : 30px;  margin-top : 0; margin-bottom : 0; \"> <br><p style=\"font-size:160%; text-align:center; line-height : 30px; margin-top : 0; \"> <br>12 de Marzo de 2018</p>"
   ]
  },
  {
   "cell_type": "markdown",
   "metadata": {},
   "source": [
    "<h1 style=\"font-size:200%; background-color:gray; color:white; text-align:center; line-height : 60px;\">\n",
    "Contenido </h1>\n",
    "\n",
    "<ul style=\"font-size:140%; line-height : 25px;\">\n",
    "  <li>Implementar y evaluar el algoritmo de dilatación direccional</li>\n",
    "  <li>Implementar y evaluar el algoritmo de adelgazamiento por morfología matemática</li>\n",
    "</ul>\n",
    "\n",
    "\n",
    "<h1 style=\"font-size:100%; background-color:rgba(150, 150, 150, 1.0); color:white; text-align:center; line-height : 30px;\">\n",
    "Visión de Máquina &#8212; J.J. Hernández & J.A. Castillo </h1>"
   ]
  },
  {
   "cell_type": "code",
   "execution_count": 2,
   "metadata": {
    "collapsed": true
   },
   "outputs": [],
   "source": [
    "%matplotlib inline\n",
    "import cv2\n",
    "from IPython.display import Image\n",
    "import numpy as np\n",
    "from matplotlib import pyplot as plt"
   ]
  },
  {
   "cell_type": "code",
   "execution_count": null,
   "metadata": {
    "collapsed": true
   },
   "outputs": [],
   "source": [
    "cv2.getStructuringElement()\n",
    "cv2.erode()\n",
    "cv2.dilate()\n",
    "a = np.array([[0,0,0,0,0,0,0,0],\n",
    "             [],\n",
    "             [],\n",
    "             [],\n",
    "             [],\n",
    "             [],\n",
    "             [],\n",
    "             []])"
   ]
  },
  {
   "cell_type": "code",
   "execution_count": 43,
   "metadata": {
    "collapsed": false,
    "scrolled": false
   },
   "outputs": [
    {
     "name": "stdout",
     "output_type": "stream",
     "text": [
      "[[0 1 0 0]\n",
      " [0 1 0 0]\n",
      " [0 1 1 0]\n",
      " [1 0 0 0]]\n",
      "[[0 1 1 0]\n",
      " [0 1 1 0]\n",
      " [0 1 1 1]\n",
      " [1 1 0 0]]\n",
      "[[0 1 1 0]\n",
      " [0 1 1 0]\n",
      " [0 1 1 1]\n",
      " [1 1 0 0]]\n",
      "[[0 1 0 0]\n",
      " [0 1 0 0]\n",
      " [0 1 1 0]\n",
      " [1 0 0 0]]\n",
      "[[0 1 0 0]\n",
      " [0 1 0 0]\n",
      " [0 1 1 1]\n",
      " [1 0 0 0]]\n",
      "[[0 1 0 0]\n",
      " [0 1 0 0]\n",
      " [0 1 1 1]\n",
      " [1 0 0 0]]\n"
     ]
    }
   ],
   "source": [
    "# reflection \n",
    "# translation (z) : z is a vector\n",
    "# erode\n",
    "def erode(A, B, origen):\n",
    "    ar, ac = A.shape\n",
    "    br, bc = B.shape\n",
    "    eA = np.zeros_like(A)\n",
    "    extA = np.zeros((ar+2*br,ac+2*bc),np.uint8)\n",
    "    extA[br:br+ar,bc:bc+ac] = A\n",
    "    orir, oric = origen\n",
    "    for i in range(0,ar):\n",
    "        for j in range(0,ac):\n",
    "            idx = np.arange(i+br-orir,i+2*br-orir)\n",
    "            idy = np.arange(j+bc-oric,j+2*bc-oric)\n",
    "            if np.prod(B*(extA[idx,idy]))==1:\n",
    "                eA[i,j] = 1\n",
    "    return eA\n",
    "\n",
    "# dilate\n",
    "def dilate(A, B, origen):\n",
    "    ar, ac = A.shape\n",
    "    br, bc = B.shape\n",
    "    dA = np.zeros_like(A)\n",
    "    extA = np.zeros((ar+2*br,ac+2*bc),np.uint8)\n",
    "    extA[br:br+ar,bc:bc+ac] = A\n",
    "    orir, oric = origen\n",
    "    for i in range(0,ar):\n",
    "        for j in range(0,ac):\n",
    "            idx = np.arange(i+orir+1,i+br+orir+1)\n",
    "            idy = np.arange(j+oric+1,j+bc+oric+1)\n",
    "            if np.sum(B[-1::-1,-1::-1]*extA[idx,idy])>0:\n",
    "                dA[i,j] = 1\n",
    "    return dA\n",
    "\n",
    "#\n",
    "A = np.zeros((4,4),np.uint8)\n",
    "A[0:3,1] = 1;A[3,0] = A[2,2] = 1;\n",
    "B = np.ones((1,2),np.uint8)\n",
    "dA = dilate(A,B,(0,0))\n",
    "dAcv2 = cv2.dilate(A,B)\n",
    "edA = erode(dA,B,(0,0))\n",
    "edA2 = 1-dilate(1-dA,B[-1::-1,-1::-1],(0,1))\n",
    "edAcv2 = cv2.erode(dA,B,anchor=(0,0))\n",
    "\n",
    "print(A)\n",
    "print(dA)\n",
    "print(dAcv2)\n",
    "print(edA)\n",
    "print(edA2)\n",
    "print(edAcv2)"
   ]
  },
  {
   "cell_type": "code",
   "execution_count": 24,
   "metadata": {
    "collapsed": false
   },
   "outputs": [
    {
     "name": "stdout",
     "output_type": "stream",
     "text": [
      "[[0 0 0 0 0 0 0 0 0 0 0]\n",
      " [0 0 0 0 0 0 0 0 0 0 1]\n",
      " [0 0 0 0 0 0 0 0 0 0 1]\n",
      " [0 0 0 0 0 0 0 0 0 0 1]\n",
      " [0 0 0 1 1 0 0 0 0 1 1]]\n"
     ]
    },
    {
     "data": {
      "image/png": "[encoded data removed]",
      "text/plain": [
       "<matplotlib.figure.Figure at 0x7f8622297310>"
      ]
     },
     "metadata": {},
     "output_type": "display_data"
    },
    {
     "data": {
      "image/png": "[encoded data removed]",
      "text/plain": [
       "<matplotlib.figure.Figure at 0x7f862200b650>"
      ]
     },
     "metadata": {},
     "output_type": "display_data"
    }
   ],
   "source": [
    "A = np.zeros((5,11),dtype='uint8')\n",
    "A[4,3:5] = 1; A[1:,9:] = 1\n",
    "B1 = np.array([[-1,-1,-1],[0,1,0],[1,1,1]],dtype='uint8')\n",
    "\n",
    "hmA = cv2.morphologyEx(A,cv2.MORPH_HITMISS,B1)\n",
    "print(hmA)\n",
    "aA = A*(1-hmA)\n",
    "\n",
    "\n",
    "plt.imshow(A,cmap='gray',interpolation='none')\n",
    "plt.show()\n",
    "\n",
    "plt.imshow(aA,cmap='gray',interpolation='none')\n",
    "plt.show()"
   ]
  }
 ],
 "metadata": {
  "kernelspec": {
   "display_name": "Python 2",
   "language": "python",
   "name": "python2"
  },
  "language_info": {
   "codemirror_mode": {
    "name": "ipython",
    "version": 2
   },
   "file_extension": ".py",
   "mimetype": "text/x-python",
   "name": "python",
   "nbconvert_exporter": "python",
   "pygments_lexer": "ipython2",
   "version": "2.7.12"
  }
 },
 "nbformat": 4,
 "nbformat_minor": 0
}
