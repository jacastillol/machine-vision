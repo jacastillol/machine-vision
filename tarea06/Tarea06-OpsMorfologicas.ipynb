{
 "cells": [
  {
   "cell_type": "markdown",
   "metadata": {},
   "source": [
    "<p style=\"font-size:300%; background-color:gray; color:white; text-align:center;line-height : 80px; margin : 0; padding : 0;\">\n",
    "Tarea 6. Operaciones Morfológicas en Imagenes</p>\n",
    "<p style=\"font-size:240%; background-color:gray; color:white; text-align:center;line-height : 60px; margin : 0; padding : 0;\">\n",
    "Visión de Máquina</p1>\n",
    "\n",
    "<p style=\"font-size:200%; text-align:center; line-height : 40px;  margin-top : 0; margin-bottom : 0; \"> <br>Jefferson Javier Hernández Panqueba</p>\n",
    "<p style=\"font-size:160%; text-align:center; line-height : 20px; margin-top : 0; \"> email: jejhernandezpa@unal.edu.co</p>\n",
    "<p style=\"font-size:200%; text-align:center; line-height : 40px;  margin-top : 0; margin-bottom : 0; \"> \n",
    "<br>Jaime Andrés Castillo León</p>\n",
    "<p style=\"font-size:160%; text-align:center; line-height : 20px; margin-top : 0; \"> email:jacastillol@unal.edu.co</p>\n",
    "<p style=\"font-size:180%; text-align:center; line-height : 30px;  margin-top : 0; margin-bottom : 0; \"> <br><p style=\"font-size:160%; text-align:center; line-height : 30px; margin-top : 0; \"> <br>12 de Marzo de 2018</p>"
   ]
  },
  {
   "cell_type": "markdown",
   "metadata": {},
   "source": [
    "<h1 style=\"font-size:200%; background-color:gray; color:white; text-align:center; line-height : 60px;\">\n",
    "Contenido </h1>\n",
    "\n",
    "<ul style=\"font-size:140%; line-height : 25px;\">\n",
    "  <li>Implementar y evaluar el algoritmo de dilatación direccional</li>\n",
    "  <li>Implementar y evaluar el algoritmo de adelgazamiento por morfología matemática</li>\n",
    "</ul>\n",
    "\n",
    "\n",
    "<h1 style=\"font-size:100%; background-color:rgba(150, 150, 150, 1.0); color:white; text-align:center; line-height : 30px;\">\n",
    "Visión de Máquina &#8212; J.J. Hernández & J.A. Castillo </h1>"
   ]
  },
  {
   "cell_type": "code",
   "execution_count": 1,
   "metadata": {
    "collapsed": true
   },
   "outputs": [],
   "source": [
    "%matplotlib inline\n",
    "import cv2\n",
    "import numpy as np\n",
    "from matplotlib import pyplot as plt\n",
    "from scipy.spatial import distance"
   ]
  },
  {
   "cell_type": "markdown",
   "metadata": {},
   "source": [
    "<h1 style=\"font-size:200%; background-color:gray; color:white; text-align:center; line-height : 60px;\">\n",
    "Dilatación Direccional </h1>\n",
    "\n",
    "<ul style=\"font-size:140%; line-height : 25px;\">\n",
    "  <li>Mediante la modificación del elemento estructurante, la magnitud y la fuerza de atracción entre objetos en la imágen, ésta metodología busca realizar una dilatación más eficiente.</li>\n",
    "  <li>La dirección y la fuerza de atracción de un objeto es función de: 1) La masa de los objetos vecinos, 2)La distancia entre los centroides de los objetos, 3) la posición relativa de los objetos.</li>\n",
    "  <li>El vector de fuerza de dilatación es definido como: $D=\\beta a_1 a_2 e^{\\frac{[d(c_1,c_2)]^2}{\\alpha^2}}$.</li>\n",
    "  <li>Donde $\\beta$ es una constante de escalamiento, $a_1$ y $a_2$ son las áreas de los objetos, $d(.,.)$ es una función de distancia entre vectores, $c_1$ y $c_2$ son los centroides de los objetos considerados y $\\alpha$ es una constante que controla el tamaño del vecindario de influencia de un objeto sobre otro.</li>\n",
    "  <li>Debido a la naturaleza discreta de la imágenes, se consideran únicamente ocho direcciones, como se muestra en la figura: </li>\n",
    "</ul>\n",
    "\n",
    "<img src=\"dir.png\",width=200,height=200>\n",
    "\n",
    "<ul style=\"font-size:140%; line-height : 25px;\">\n",
    "  <li>Si un objeto está en una region del objeto en crecimiento, por ejemplo NE, entonces se calcula la magnitud de la\n",
    "fuerza de atracción usando el operador D, y se asigna como dirección dicha región (NE). </li>\n",
    "  <li>Para cada objeto de la imagen, se calcula una magnitud de atracción para las ocho direcciones, sumando todas\n",
    "las fuerzas de atracción causadas por objetos en cada región, de acuerdo a la siguiente ecuación: </li>\n",
    "  <li>$D=\\beta \\sum_k a_i a_k e^{\\frac{[d(c_i,c_k)]^2}{\\alpha^2}}$ </li>\n",
    "  <li> $\\forall i=1, ... , N_0$ y $\\forall j=1, ... , N_r$  </li>\n",
    "  <li> Donde: $i$ es el índice del objeto actual, $N_0$ es el número de objetos individuales en la imagen,$j$ es el índice de la región actual, $N_r$ es el número de regiones radiales (direcciones posibles de crecimiento), y $k$ es el índice de todos los objetos en la región $j$, que contribuyen a la fuerza de atracción. </li>\n",
    "   <li>Es conveniente normalizar las magnitudes de los N vectores de fuerza por la magnitud máxima en el conjunto, de modo que dichas magnitudes varíen de 0 a 1 para cada objeto. </li>\n",
    "  <li>Una vez obtenido lo anterior, se puede fijar un valor de umbral de fuerza de dilatación $D$, tal que los objetos cuyas magnitudes máximas del vector de fuerza caigan por debajo de D, queden excluidos del proceso de dilatación. </li>\n",
    "  <li>La dilatación direccional de la imagen se logra mediante el uso de N kernels diferentes. </li>\n",
    "  <li>Una vez establecidas las magnitudes del vector de fuerzas normalizadas y los kernels correspondientes, cada objeto\n",
    "de la imagen se dilata con el kernel, o conjunto de kernels, lo que hace que se expanda el numero de veces según $D$ que corresponda, en la dirección o direcciones deseadas. </li>\n",
    "</ul>\n",
    "\n",
    "\n",
    "<h1 style=\"font-size:100%; background-color:rgba(150, 150, 150, 1.0); color:white; text-align:center; line-height : 30px;\">\n",
    "Visión de Máquina &#8212; J.J. Hernández & J.A. Castillo </h1>"
   ]
  },
  {
   "cell_type": "code",
   "execution_count": 2,
   "metadata": {
    "collapsed": false
   },
   "outputs": [],
   "source": [
    "# calculo del angulo entre centroides\n",
    "def angle_v(vec1,vec2):\n",
    "    ax=float(vec1[0])    \n",
    "    ay=float(-vec1[1])\n",
    "    bx=float(vec2[0])\n",
    "    by=float(-vec2[1])\n",
    "    if by==ay:\n",
    "        if ax>bx:\n",
    "            angle2=180\n",
    "        else:\n",
    "            angle2=0\n",
    "    elif ax==bx: \n",
    "        if by>bx:\n",
    "            angle2=90\n",
    "        else:\n",
    "            angle2=270\n",
    "    elif ax>bx:\n",
    "        angle2=np.arctan((ay-by)/(ax-bx))*(180/np.pi)+180        \n",
    "    elif ax<bx and by<ay:\n",
    "        angle2=np.arctan((ay-by)/(ax-bx))*(180/np.pi)+360\n",
    "    else:\n",
    "        angle2=np.arctan((ay-by)/(ax-bx))*(180/np.pi)\n",
    "    return (angle2)\n",
    "\n",
    "# calculo de distancia y angulos entre los cenroides \n",
    "def dis_angle(centro,num_of_obj):\n",
    "    \n",
    "    dis=np.zeros((num_of_obj,num_of_obj),np.int16)\n",
    "    angle=np.zeros((num_of_obj,num_of_obj),np.int16)\n",
    "    \n",
    "    for i in range (1,num_of_obj+1):\n",
    "        for j in range (1,num_of_obj+1):\n",
    "            dis[i-1,j-1] = distance.euclidean((centro[i-1,0],centro[i-1,1]),(centro[j-1,0], centro[j-1,1]))\n",
    "            vec1=(centro[i-1,0],centro[i-1,1])\n",
    "            vec2=(centro[j-1,0],centro[j-1,1])\n",
    "            angle[i-1,j-1]=angle_v(vec1,vec2)\n",
    "    return (dis,angle)\n",
    "\n",
    "def fue_dila(centro,dista,angu,alpha,beta,num_of_obj):\n",
    "    b=float(beta)\n",
    "    al=float(alpha)\n",
    "    D=np.zeros((num_of_obj,num_of_obj))\n",
    "    for i in range (1,num_of_obj+1):\n",
    "        for j in range (1,num_of_obj+1):\n",
    "            a1=float(centro[i-1,2])\n",
    "            a2=float(centro[j-1,2])\n",
    "            di=float(dista[i-1,j-1])\n",
    "            D[i-1,j-1]=b*a1*a2*np.exp(-((di*di)/(al*al)))\n",
    "    return (D)\n",
    "\n",
    "def D_norm_umbral(regiones,num_of_obj):\n",
    "    D_sum=np.zeros((num_of_obj,regiones))\n",
    "    Nite_dir=np.zeros((num_of_obj,regiones))\n",
    "    a=1\n",
    "    for i in range (0,num_of_obj):\n",
    "        for j in range (0,num_of_obj):\n",
    "            r=1\n",
    "            angul=angulos[i,j]\n",
    "            if 0<angul and 45>angul:\n",
    "                D_sum[i,0]=Ds[i,j]+D_sum[i,0]\n",
    "            elif 45<=angul and 90>angul:\n",
    "                D_sum[i,1]=Ds[i,j]+D_sum[i,1]\n",
    "            elif 90<=angul and 135>angul:\n",
    "                D_sum[i,2]=Ds[i,j]+D_sum[i,2]\n",
    "            elif 135<=angul and 180>angul:\n",
    "                D_sum[i,3]=Ds[i,j]+D_sum[i,3]\n",
    "            elif 180<=angul and 225>angul:\n",
    "                D_sum[i,4]=Ds[i,j]+D_sum[i,4]\n",
    "            elif 225<=angul and 270>angul:\n",
    "                D_sum[i,5]=Ds[i,j]+D_sum[i,5]\n",
    "            elif 270<=angul and 315>angul:\n",
    "                D_sum[i,6]=Ds[i,j]+D_sum[i,6]\n",
    "            elif 315<=angul and 360>angul:\n",
    "                D_sum[i,7]=Ds[i,j]+D_sum[i,7]\n",
    "    zmax=float(np.amax(D_sum))\n",
    "    D_sum_N=D_sum/zmax\n",
    "    D_umbral=0.25\n",
    "    for i in range (0,num_of_obj):\n",
    "        for j in range (0,regiones):\n",
    "            temp=D_sum_N[i,j]\n",
    "            if temp<D_umbral:\n",
    "                Nite_dir[i,j]=0\n",
    "            elif D_umbral<temp and temp<=2*D_umbral:\n",
    "                Nite_dir[i,j]=1\n",
    "            elif 2*D_umbral<temp and temp<=3*D_umbral:\n",
    "                Nite_dir[i,j]=2\n",
    "            elif 3*D_umbral<temp and temp<=4*D_umbral:\n",
    "                Nite_dir[i,j]=3                \n",
    "    \n",
    "    return (D_sum_N,Nite_dir)"
   ]
  },
  {
   "cell_type": "code",
   "execution_count": 3,
   "metadata": {
    "collapsed": false
   },
   "outputs": [
    {
     "data": {
      "text/plain": [
       "(<matplotlib.text.Text at 0x7f62a012e050>,\n",
       " ([], <a list of 0 Text xticklabel objects>),\n",
       " ([], <a list of 0 Text yticklabel objects>))"
      ]
     },
     "execution_count": 3,
     "metadata": {},
     "output_type": "execute_result"
    },
    {
     "data": {
      "image/png": "[encoded data removed]",
      "text/plain": [
       "<matplotlib.figure.Figure at 0x7f62a3772f10>"
      ]
     },
     "metadata": {},
     "output_type": "display_data"
    },
    {
     "data": {
      "image/png": "[encoded data removed]",
      "text/plain": [
       "<matplotlib.figure.Figure at 0x7f62a339e4d0>"
      ]
     },
     "metadata": {},
     "output_type": "display_data"
    }
   ],
   "source": [
    "# cargar la imagen y binarizarla\n",
    "image = cv2.imread('test2.png')\n",
    "gray = cv2.cvtColor(image, cv2.COLOR_BGR2GRAY)\n",
    "blurred = cv2.GaussianBlur(gray, (5, 5), 0)\n",
    "thresh = cv2.threshold(blurred, 60, 255, cv2.THRESH_BINARY)[1]                                                         \n",
    "plt.figure(1,figsize=(20,5))\n",
    "plt.subplot(131),plt.imshow(image, cmap = 'gray',interpolation='none')\n",
    "plt.title('Original Image'), plt.xticks([]), plt.yticks([])\n",
    "plt.subplot(132),plt.imshow(gray, cmap = 'gray')\n",
    "plt.title('gray Image'), plt.xticks([]), plt.yticks([])\n",
    "plt.subplot(133),plt.imshow(blurred, cmap = 'gray')\n",
    "plt.title('blurred Image'), plt.xticks([]), plt.yticks([])\n",
    "plt.figure(2,figsize=(20,5))\n",
    "plt.subplot(121),plt.imshow(thresh, cmap = 'gray')\n",
    "plt.title('thresh Image'), plt.xticks([]), plt.yticks([])\n"
   ]
  },
  {
   "cell_type": "code",
   "execution_count": 4,
   "metadata": {
    "collapsed": false,
    "scrolled": false
   },
   "outputs": [
    {
     "name": "stdout",
     "output_type": "stream",
     "text": [
      "centroids and area\n",
      "[[  406   481  2615]\n",
      " [  117   305   981]\n",
      " [  611   323  8837]\n",
      " [  216   310  1229]\n",
      " [  382   299 24691]\n",
      " [  503   147  3582]\n",
      " [  570    78  1089]\n",
      " [  651    69   579]\n",
      " [  149    80  9392]]\n",
      "distancia\n",
      "[[  0 338 258 255 183 347 435 479 476]\n",
      " [338   0 494  99 265 417 506 583 227]\n",
      " [258 494   0 395 230 206 248 257 522]\n",
      " [255  99 395   0 166 330 423 497 239]\n",
      " [183 265 230 166   0 194 290 353 319]\n",
      " [347 417 206 330 194   0  96 167 360]\n",
      " [435 506 248 423 290  96   0  81 421]\n",
      " [479 583 257 497 353 167  81   0 502]\n",
      " [476 227 522 239 319 360 421 502   0]]\n",
      "angulos\n",
      "[[  0 148  37 138  97  73  67  59 122]\n",
      " [328   0 357 357   1  22  26  23  81]\n",
      " [217 177   0 178 174 121  99  81 152]\n",
      " [318 177 358   0   3  29  33  28 106]\n",
      " [277 181 354 183   0  51  49  40 136]\n",
      " [253 202 301 209 231   0  45  27 169]\n",
      " [247 206 279 213 229 225   0   6 180]\n",
      " [239 203 261 208 220 207 186   0 181]\n",
      " [302 261 332 286 316 349   0   1   0]]\n",
      "Vector de fuerzas de dilatación\n",
      "[[  6.83822500e+07   1.47486487e+06   4.37589710e+07   6.32446231e+06\n",
      "    2.79516967e+08   4.61607831e+06   2.51197458e+05   4.88681897e+04\n",
      "    8.51553844e+05]\n",
      " [  1.47486487e+06   9.62361000e+06   1.94261464e+05   9.43643352e+06\n",
      "    4.18552015e+07   4.54798224e+05   1.77345976e+04   1.15890982e+03\n",
      "    2.54072747e+07]\n",
      " [  4.37589710e+07   1.94261464e+05   7.80925690e+08   2.19703424e+06\n",
      "    5.81418816e+08   1.09568930e+08   2.06805240e+07   9.81443974e+06\n",
      "    9.13283263e+05]\n",
      " [  6.32446231e+06   9.43643352e+06   2.19703424e+06   1.51044100e+07\n",
      "    1.52371974e+08   2.89274890e+06   1.52715398e+05   1.48034965e+04\n",
      "    2.76774828e+07]\n",
      " [  2.79516967e+08   4.18552015e+07   5.81418816e+08   1.52371974e+08\n",
      "    6.09645481e+09   3.45172814e+08   3.28444816e+07   6.34296355e+06\n",
      "    1.82154852e+08]\n",
      " [  4.61607831e+06   4.54798224e+05   1.09568930e+08   2.89274890e+06\n",
      "    3.45172814e+08   1.28307240e+08   3.09807561e+07   1.03276896e+07\n",
      "    1.31755740e+07]\n",
      " [  2.51197458e+05   1.77345976e+04   2.06805240e+07   1.52715398e+05\n",
      "    3.28444816e+07   3.09807561e+07   1.18592100e+07   5.35144777e+06\n",
      "    1.21735223e+06]\n",
      " [  4.88681897e+04   1.15890982e+03   9.81443974e+06   1.48034965e+04\n",
      "    6.34296355e+06   1.03276896e+07   5.35144777e+06   3.35241000e+06\n",
      "    9.98476809e+04]\n",
      " [  8.51553844e+05   2.54072747e+07   9.13283263e+05   2.76774828e+07\n",
      "    1.82154852e+08   1.31755740e+07   1.21735223e+06   9.98476809e+04\n",
      "    8.82096640e+08]]\n",
      "Numero de itearciones direccional\n",
      "[[ 0.  0.  1.  0.  0.  0.  0.  0.]\n",
      " [ 0.  0.  0.  0.  0.  0.  0.  0.]\n",
      " [ 0.  0.  0.  3.  0.  0.  0.  0.]\n",
      " [ 1.  0.  0.  0.  0.  0.  0.  0.]\n",
      " [ 0.  2.  0.  1.  1.  0.  1.  3.]\n",
      " [ 0.  0.  0.  0.  0.  2.  0.  0.]\n",
      " [ 0.  0.  0.  0.  0.  0.  0.  0.]\n",
      " [ 0.  0.  0.  0.  0.  0.  0.  0.]\n",
      " [ 0.  0.  0.  0.  0.  0.  0.  1.]]\n"
     ]
    },
    {
     "data": {
      "text/plain": [
       "(<matplotlib.text.Text at 0x7f62a0051390>,\n",
       " ([], <a list of 0 Text xticklabel objects>),\n",
       " ([], <a list of 0 Text yticklabel objects>))"
      ]
     },
     "execution_count": 4,
     "metadata": {},
     "output_type": "execute_result"
    },
    {
     "data": {
      "image/png": "[encoded data removed]",
      "text/plain": [
       "<matplotlib.figure.Figure at 0x7f62d8366610>"
      ]
     },
     "metadata": {},
     "output_type": "display_data"
    }
   ],
   "source": [
    "# encontrar los contornos en la imagen \n",
    "cnts = cv2.findContours(thresh.copy(), cv2.RETR_EXTERNAL,cv2.CHAIN_APPROX_SIMPLE)\n",
    "# colocar en falso si es openCV 3\n",
    "is_cv2 = False #True\n",
    "cnts = cnts[0] if is_cv2 else cnts[1]\n",
    "# contar el numero de objetos\n",
    "j=0; i=0\n",
    "num=0\n",
    "for c in cnts:\n",
    "    num=num+1\n",
    "centroids = np.zeros((num,3),np.int16)\n",
    "\n",
    "# calcular los centorides y el area de los objetos \n",
    "for c in cnts:    \n",
    "\tM = cv2.moments(c)\n",
    "\tarea=cv2.contourArea(c)\n",
    "\tcX = int(M[\"m10\"] / M[\"m00\"])\n",
    "\tcY = int(M[\"m01\"] / M[\"m00\"])\n",
    "\tcentroids[i,0]=cX\n",
    "\tcentroids[i,1]=cY\n",
    "\tcentroids[i,2]=area    \n",
    "\ti=i+1\n",
    "print \"centroids and area\"\n",
    "print centroids\n",
    "\n",
    "# calcular la distancia y los angulos entre centorides \n",
    "distancia,angulos=dis_angle(centroids,num)\n",
    "print \"distancia\"\n",
    "print distancia\n",
    "print \"angulos\"\n",
    "print angulos\n",
    "\n",
    "# Calcular la fuerza de dialtación\n",
    "\n",
    "Ds=fue_dila(centroids,distancia,angulos,200,10,num)\n",
    "print \"Vector de fuerzas de dilatación\"\n",
    "print Ds\n",
    "\n",
    "# las fuerzas por regiones  y el numero de iteraciones de dilatación\n",
    "D_sum_N,Nite_dir=D_norm_umbral(8,num)\n",
    "\n",
    "#print \"Vector de fuerzas suma Normalizados y umbralizados\"\n",
    "#print D_sum_N\n",
    "\n",
    "print \"Numero de itearciones direccional\"\n",
    "print Nite_dir\n",
    "\n",
    "num_of_obj=num\n",
    "regiones=8\n",
    "for i in range (0,num_of_obj-1):\n",
    "    im_new=thresh\n",
    "    cx=int(centroids[i,0])\n",
    "    cy=int(centroids[i,1])\n",
    "    a=int(centroids[i,2])\n",
    "    r=np.sqrt(a/np.pi)\n",
    "    ofx1 = int(cx-1.5*r)\n",
    "    ofy1 = int(cy-1.5*r)\n",
    "    ffx = int(cx+1.5*r)\n",
    "    ffy = int(cy+1.5*r)\n",
    "    for j in range (0,regiones):\n",
    "        nu_ite=Nite_dir[i,j]\n",
    "        size=1\n",
    "        while True:\n",
    "            reg=j+1\n",
    "            if reg==1 and nu_ite>0:\n",
    "                K = np.array([[0,0,0],[0,1,1],[0,0,0]],np.uint8)\n",
    "                peda=thresh[ofx1:ffx,ofy1:ffy]\n",
    "                im_new[ofx1:ffx,ofy1:ffy]=cv2.dilate(peda,K,iterations = 3)\n",
    "                size=size+1\n",
    "                if size>nu_ite:\n",
    "                    break\n",
    "            elif reg==2 and nu_ite>0:\n",
    "                K = np.array([[0,0,1],[0,1,0],[0,0,0]],np.uint8)\n",
    "                ofx = int(np.floor(K.shape[0])/2)\n",
    "                ofy = int(np.floor(K.shape[1])/2)\n",
    "                peda=thresh[ofx1:ffx,ofy1:ffy]\n",
    "                im_new[ofx1:ffx,ofy1:ffy]=cv2.dilate(peda,K,iterations = 3)\n",
    "                size=size+1\n",
    "                if size>nu_ite:\n",
    "                    break\n",
    "            elif reg==3 and nu_ite>0:\n",
    "                K = np.array([[0,1,0],[0,1,0],[0,0,0]],np.uint8)\n",
    "                ofx = int(np.floor(K.shape[0])/2)\n",
    "                ofy = int(np.floor(K.shape[1])/2)\n",
    "                peda=thresh[ofx1:ffx,ofy1:ffy]\n",
    "                im_new[ofx1:ffx,ofy1:ffy]=cv2.dilate(peda,K,iterations = 3)\n",
    "                size=size+1\n",
    "                if size>nu_ite:\n",
    "                    break\n",
    "            elif reg==4 and nu_ite>0:\n",
    "                K = np.array([[1,0,0],[0,1,0],[0,0,0]],np.uint8)\n",
    "                ofx = int(np.floor(K.shape[0])/2)\n",
    "                ofy = int(np.floor(K.shape[1])/2)\n",
    "                peda=thresh[ofx1:ffx,ofy1:ffy]\n",
    "                im_new[ofx1:ffx,ofy1:ffy]=cv2.dilate(peda,K,iterations = 3)\n",
    "                size=size+1\n",
    "                if size>nu_ite:\n",
    "                    break\n",
    "            elif reg==5 and nu_ite>0:\n",
    "                K = np.array([[0,0,0],[1,1,0],[0,0,0]],np.uint8)\n",
    "                ofx = int(np.floor(K.shape[0])/2)\n",
    "                ofy = int(np.floor(K.shape[1])/2)\n",
    "                peda=thresh[ofx1:ffx,ofy1:ffy]\n",
    "                im_new[ofx1:ffx,ofy1:ffy]=cv2.dilate(peda,K,iterations = 3)\n",
    "                size=size+1\n",
    "                if size>nu_ite:\n",
    "                    break\n",
    "            elif reg==6 and nu_ite>0:\n",
    "                K = np.array([[0,0,0],[0,1,0],[1,0,0]],np.uint8)\n",
    "                ofx = int(np.floor(K.shape[0])/2)\n",
    "                ofy = int(np.floor(K.shape[1])/2)\n",
    "                peda=thresh[ofx1:ffx,ofy1:ffy]\n",
    "                im_new[ofx1:ffx,ofy1:ffy]=cv2.dilate(peda,K,iterations = 3)\n",
    "                size=size+1\n",
    "                if size>nu_ite:\n",
    "                    break\n",
    "            elif reg==7 and nu_ite>0:\n",
    "                K = np.array([[0,0,0],[0,1,0],[0,1,0]],np.uint8)\n",
    "                ofx = int(np.floor(K.shape[0])/2)\n",
    "                ofy = int(np.floor(K.shape[1])/2)\n",
    "                peda=thresh[ofx1:ffx,ofy1:ffy]\n",
    "                im_new[ofx1:ffx,ofy1:ffy]=cv2.dilate(peda,K,iterations = 3)\n",
    "                size=size+1\n",
    "                if size>nu_ite:\n",
    "                    break\n",
    "            elif reg==8 and nu_ite>0:\n",
    "                K = np.array([[0,0,0],[0,1,0],[0,0,1]],np.uint8)\n",
    "                ofx = int(np.floor(K.shape[0])/2)\n",
    "                ofy = int(np.floor(K.shape[1])/2)\n",
    "                peda=thresh[ofx1:ffx,ofy1:ffy]\n",
    "                im_new[ofx1:ffx,ofy1:ffy]=cv2.dilate(peda,K,iterations = 3)\n",
    "                size=size+1\n",
    "                if size>nu_ite:\n",
    "                    break\n",
    "            elif nu_ite==0:break\n",
    "                \n",
    "                    \n",
    "plt.subplot(122),plt.imshow(im_new, cmap = 'gray')\n",
    "plt.title('Image directional Dilated'), plt.xticks([]), plt.yticks([])"
   ]
  },
  {
   "cell_type": "markdown",
   "metadata": {
    "collapsed": false,
    "scrolled": false
   },
   "source": [
    "<h1 style=\"font-size:200%; background-color:gray; color:white; text-align:center; line-height : 60px;\">\n",
    "Adelgazamiento </h1>\n",
    "\n",
    "<ul style=\"font-size:140%; line-height : 25px;\">\n",
    "   <li> Mediante operaciones morfologicas es posible aplicar un adelgazamiento a una imagen mediante el operador hit_or_miss, que a su vez esta conformado por los operadores de dilatación y erosión. Estos ultimos son desarrollados mediante dos operaciones basicas, la traslación y la reflexion </li>\n",
    "   <li> Los operadores de cierre, apertura y extración de bordes, son implementados para probar el buen funcionamiento de la erosión y la dilatación </li>\n",
    "   <li> Acontinuación se definen estos operadores, y se prueba su rendimiento con varias imagenes </li>\n",
    "</ul>\n",
    "\n",
    "<h1 style=\"font-size:100%; background-color:rgba(150, 150, 150, 1.0); color:white; text-align:center; line-height : 30px;\">\n",
    "Visión de Máquina &#8212; J.J. Hernández & J.A. Castillo </h1>"
   ]
  },
  {
   "cell_type": "code",
   "execution_count": 5,
   "metadata": {
    "collapsed": false
   },
   "outputs": [],
   "source": [
    "def reflect(B):\n",
    "    return tuple(-b for b in B)\n",
    "\n",
    "def translate(B,z):\n",
    "     return tuple(b+z[i] for i,b in enumerate(B))\n",
    "\n",
    "def erode(im,im_op,z_op):\n",
    "    Bo = np.nonzero(im_op)\n",
    "    B = translate(Bo,-z_op)\n",
    "    im_e = np.zeros_like(im)\n",
    "    r_im,c_im = im.shape\n",
    "    r_op,c_op = im_op.shape\n",
    "    for i in range(0,r_im):\n",
    "        for j in range(0,c_im):\n",
    "            z = np.array([i,j])\n",
    "            Bz = translate(B,z)\n",
    "            if np.any(np.array(Bz)<0) or \\\n",
    "               np.any(Bz[0]>=r_im) or np.any(Bz[1]>=c_im):\n",
    "                continue\n",
    "            im_e[i,j] = np.all((1-im[Bz[0],Bz[1]])==0)\n",
    "    return im_e\n",
    "\n",
    "def dilate(im,im_op,z_op):\n",
    "    Bo = np.nonzero(im_op)\n",
    "    B = translate(Bo,-z_op)\n",
    "    W = reflect(B)\n",
    "    im_d = np.zeros_like(im)\n",
    "    r_im,c_im = im.shape\n",
    "    r_op,c_op = im_op.shape\n",
    "    for i in range(0,r_im):\n",
    "        for j in range(0,c_im):\n",
    "            z = np.array([i,j])\n",
    "            Wz = translate(W,z)\n",
    "            if np.any(np.array(Wz)<0) or \\\n",
    "               np.any(Wz[0]>=r_im) or np.any(Wz[1]>=c_im):\n",
    "                continue\n",
    "            im_d[i,j] = np.any((im[Wz[0],Wz[1]])==1)\n",
    "    return im_d\n",
    "\n",
    "def opening(im,im_op,z_op):\n",
    "    return dilate(erode(im,im_op,z_op),im_op,z_op)\n",
    "\n",
    "def closing(im,im_op,z_op):\n",
    "    return erode(dilate(im,im_op,z_op),im_op,z_op)\n",
    "\n",
    "def boundary(im,im_op,z_op):\n",
    "    return im - erode(im,im_op,z_op)\n",
    "\n",
    "def hitormiss(im,im_op,z_op):\n",
    "    # A**B = (A -- B1)-(A ++ ^B2)\n",
    "    # A**B = (A -- B1)-((A^c -- B2)^c)\n",
    "    im_op1,im_op2 = im_op\n",
    "    im_h = erode(im,im_op1,z_op) - (1-erode(1-im,im_op2,z_op))\n",
    "    im_h[im_h<1] = 0\n",
    "    return im_h\n",
    "\n",
    "def thinning(im,im_op,z_op):\n",
    "    return im-hitormiss(im,im_op,z_op)\n"
   ]
  },
  {
   "cell_type": "code",
   "execution_count": 6,
   "metadata": {
    "collapsed": true
   },
   "outputs": [],
   "source": [
    "# gonzalez's book example\n",
    "def gonzalexample():\n",
    "    im = np.zeros((7,15))\n",
    "    im[1:-1,1:-1] = 1\n",
    "    im[1,5:10] = im[-2,5:10] = 0\n",
    "    return im \n",
    "\n",
    "def gonzalexampleHitormiss():\n",
    "    im = np.zeros((7,15))\n",
    "    im[1:-1,1:-1] = 1\n",
    "    im[1,5:10] = im[-2,5:10] = 0\n",
    "    return im \n",
    "\n",
    "# martian\n",
    "def martian():\n",
    "    im = np.zeros((10,13))\n",
    "    im[np.array([1,1,2,2,4,4,4, 4,6, 6,7,7,7, 7]),\n",
    "       np.array([3,9,4,8,2,3,9,10,1,11,1,3,9,11])] = 1\n",
    "    im[3,np.arange(3,10)] = 1\n",
    "    im[4,np.arange(5,8)] = 1\n",
    "    im[5,np.arange(1,12)] = 1\n",
    "    im[6,np.arange(3,10)] = 1\n",
    "    im[8,np.arange(4,9)] = 1\n",
    "    im[8,6] = 0\n",
    "    return im"
   ]
  },
  {
   "cell_type": "code",
   "execution_count": 7,
   "metadata": {
    "collapsed": false,
    "scrolled": false
   },
   "outputs": [
    {
     "data": {
      "image/png": "[encoded data removed]",
      "text/plain": [
       "<matplotlib.figure.Figure at 0x7f62a3391950>"
      ]
     },
     "metadata": {},
     "output_type": "display_data"
    },
    {
     "data": {
      "image/png": "[encoded data removed]",
      "text/plain": [
       "<matplotlib.figure.Figure at 0x7f62a33b64d0>"
      ]
     },
     "metadata": {},
     "output_type": "display_data"
    },
    {
     "data": {
      "image/png": "[encoded data removed]",
      "text/plain": [
       "<matplotlib.figure.Figure at 0x7f62a629a950>"
      ]
     },
     "metadata": {},
     "output_type": "display_data"
    },
    {
     "data": {
      "image/png": "[encoded data removed]",
      "text/plain": [
       "<matplotlib.figure.Figure at 0x7f62a33916d0>"
      ]
     },
     "metadata": {},
     "output_type": "display_data"
    },
    {
     "data": {
      "image/png": "[encoded data removed]",
      "text/plain": [
       "<matplotlib.figure.Figure at 0x7f62a342f690>"
      ]
     },
     "metadata": {},
     "output_type": "display_data"
    },
    {
     "data": {
      "image/png": "[encoded data removed]",
      "text/plain": [
       "<matplotlib.figure.Figure at 0x7f62a3385450>"
      ]
     },
     "metadata": {},
     "output_type": "display_data"
    },
    {
     "data": {
      "image/png": "[encoded data removed]",
      "text/plain": [
       "<matplotlib.figure.Figure at 0x7f6290f46b90>"
      ]
     },
     "metadata": {},
     "output_type": "display_data"
    }
   ],
   "source": [
    "#im = gonzalexample()\n",
    "#im = martian()\n",
    "im = cv2.imread('binary.png',0)\n",
    "#im = cv2.imread('martian.png',0)\n",
    "#im = cv2.imread('image_thumb.png',0)\n",
    "im[im>0] = 1\n",
    "\n",
    "#im_op = np.ones((1,2))\n",
    "#im_op = np.ones((2,1))\n",
    "#im_op = np.ones((2,2)); im_op[1,1] = 0\n",
    "#im_op = np.zeros((3,3)); im_op[:2,:2] = 1\n",
    "im_op = np.ones((3,3))\n",
    "#im_op = np.ones((3,3)); im_op[::2,::2] = 0\n",
    "\n",
    "z_op = np.array([1,1])\n",
    "\n",
    "im_e = erode(im,im_op,z_op)\n",
    "im_d = dilate(im,im_op,z_op)\n",
    "im_o = opening(im,im_op,z_op)\n",
    "im_c = closing(im,im_op,z_op)\n",
    "im_b = boundary(im,im_op,z_op)\n",
    "\n",
    "plt.figure(figsize=(1,1))\n",
    "plt.imshow(im_op,cmap='gray',interpolation='none'),plt.xticks([]),plt.yticks([])\n",
    "plt.title('Elemento estructural')\n",
    "plt.show()\n",
    "\n",
    "plt.imshow(im,cmap='gray',interpolation='none'),plt.xticks([]),plt.yticks([])\n",
    "plt.title('Imagen a operar')\n",
    "plt.show()\n",
    "\n",
    "plt.imshow(im_e,cmap='gray',interpolation='none'),plt.xticks([]),plt.yticks([])\n",
    "plt.title('Imagen erosionada')\n",
    "plt.show()\n",
    "\n",
    "plt.imshow(im_d,cmap='gray',interpolation='none'),plt.xticks([]),plt.yticks([])\n",
    "plt.title('Imagen dilatada')\n",
    "plt.show()\n",
    "\n",
    "plt.imshow(im_o,cmap='gray',interpolation='none'),plt.xticks([]),plt.yticks([])\n",
    "plt.title('Imagen en apertura')\n",
    "plt.show()\n",
    "\n",
    "plt.imshow(im_c,cmap='gray',interpolation='none'),plt.xticks([]),plt.yticks([])\n",
    "plt.title('Imagen en cierre')\n",
    "plt.show()\n",
    "\n",
    "plt.imshow(im_b,cmap='gray',interpolation='none'),plt.xticks([]),plt.yticks([])\n",
    "plt.title('Imagen de extracciOn del borde')\n",
    "plt.show()\n"
   ]
  },
  {
   "cell_type": "markdown",
   "metadata": {},
   "source": [
    "## Evaluación de Hit or Miss"
   ]
  },
  {
   "cell_type": "code",
   "execution_count": 8,
   "metadata": {
    "collapsed": false
   },
   "outputs": [
    {
     "name": "stdout",
     "output_type": "stream",
     "text": [
      "[[31 27 10 32 14]\n",
      " [19  8  8 30  6]]\n"
     ]
    },
    {
     "data": {
      "image/png": "[encoded data removed]",
      "text/plain": [
       "<matplotlib.figure.Figure at 0x7f62a342a210>"
      ]
     },
     "metadata": {},
     "output_type": "display_data"
    },
    {
     "data": {
      "image/png": "[encoded data removed]",
      "text/plain": [
       "<matplotlib.figure.Figure at 0x7f6290da24d0>"
      ]
     },
     "metadata": {},
     "output_type": "display_data"
    },
    {
     "data": {
      "image/png": "[encoded data removed]",
      "text/plain": [
       "<matplotlib.figure.Figure at 0x7f6290d2a8d0>"
      ]
     },
     "metadata": {},
     "output_type": "display_data"
    },
    {
     "data": {
      "image/png": "[encoded data removed]",
      "text/plain": [
       "<matplotlib.figure.Figure at 0x7f6290f52790>"
      ]
     },
     "metadata": {},
     "output_type": "display_data"
    }
   ],
   "source": [
    "im_martian = martian()\n",
    "im = np.zeros((50,50))\n",
    "\n",
    "Z = np.random.randint(0,high=max(im.shape)-max(im_martian.shape),size=(2,5))\n",
    "\n",
    "print(Z)\n",
    "for z in Z.T:\n",
    "    idx = np.array(np.nonzero(im_martian))+z.reshape((2,1))\n",
    "    im[idx[0],idx[1]] = 1\n",
    "\n",
    "im_op = (im_martian,1-im_martian)\n",
    "\n",
    "z_op = np.array([5,6])\n",
    "\n",
    "im_h = hitormiss(im,im_op,z_op)\n",
    "\n",
    "plt.figure(figsize=(1,1))\n",
    "plt.imshow(im_op[0],cmap='gray',interpolation='none'),plt.xticks([]),plt.yticks([])\n",
    "plt.show()\n",
    "\n",
    "plt.figure(figsize=(1,1))\n",
    "plt.imshow(im_op[1],cmap='gray',interpolation='none'),plt.xticks([]),plt.yticks([])\n",
    "plt.show()\n",
    "\n",
    "plt.imshow(im,cmap='gray',interpolation='none'),plt.xticks([]),plt.yticks([])\n",
    "plt.title('Imagen aleatoria inicial')\n",
    "plt.show()\n",
    "\n",
    "plt.imshow(im_h,cmap='gray',interpolation='none'),plt.xticks([]),plt.yticks([])\n",
    "plt.title('Resultado')\n",
    "plt.show()\n"
   ]
  },
  {
   "cell_type": "markdown",
   "metadata": {},
   "source": [
    "## Prueba del algoritmo de adelgazamiento"
   ]
  },
  {
   "cell_type": "code",
   "execution_count": 9,
   "metadata": {
    "collapsed": false
   },
   "outputs": [
    {
     "data": {
      "image/png": "[encoded data removed]",
      "text/plain": [
       "<matplotlib.figure.Figure at 0x7f62a3769710>"
      ]
     },
     "metadata": {},
     "output_type": "display_data"
    },
    {
     "data": {
      "image/png": "[encoded data removed]",
      "text/plain": [
       "<matplotlib.figure.Figure at 0x7f62d8366690>"
      ]
     },
     "metadata": {},
     "output_type": "display_data"
    },
    {
     "data": {
      "image/png": "[encoded data removed]",
      "text/plain": [
       "<matplotlib.figure.Figure at 0x7f62a337a390>"
      ]
     },
     "metadata": {},
     "output_type": "display_data"
    },
    {
     "data": {
      "image/png": "[encoded data removed]",
      "text/plain": [
       "<matplotlib.figure.Figure at 0x7f6290ee8f50>"
      ]
     },
     "metadata": {},
     "output_type": "display_data"
    },
    {
     "data": {
      "image/png": "[encoded data removed]",
      "text/plain": [
       "<matplotlib.figure.Figure at 0x7f6290d04310>"
      ]
     },
     "metadata": {},
     "output_type": "display_data"
    },
    {
     "data": {
      "image/png": "[encoded data removed]",
      "text/plain": [
       "<matplotlib.figure.Figure at 0x7f6290d99a90>"
      ]
     },
     "metadata": {},
     "output_type": "display_data"
    },
    {
     "data": {
      "image/png": "[encoded data removed]",
      "text/plain": [
       "<matplotlib.figure.Figure at 0x7f6290ebd310>"
      ]
     },
     "metadata": {},
     "output_type": "display_data"
    },
    {
     "data": {
      "image/png": "[encoded data removed]",
      "text/plain": [
       "<matplotlib.figure.Figure at 0x7f6290ab2c10>"
      ]
     },
     "metadata": {},
     "output_type": "display_data"
    },
    {
     "data": {
      "image/png": "[encoded data removed]",
      "text/plain": [
       "<matplotlib.figure.Figure at 0x7f6290c2d350>"
      ]
     },
     "metadata": {},
     "output_type": "display_data"
    },
    {
     "data": {
      "image/png": "[encoded data removed]",
      "text/plain": [
       "<matplotlib.figure.Figure at 0x7f62908c9a50>"
      ]
     },
     "metadata": {},
     "output_type": "display_data"
    }
   ],
   "source": [
    "im = np.ones((7,11))\n",
    "im[0::6,:] = 0\n",
    "im[2:,-2:] = 0\n",
    "im[-2,3:5] = 0\n",
    "im = martian()\n",
    "#im = gonzalexample()\n",
    "#im = cv2.imread('martian.png',0)\n",
    "#im = cv2.imread('image_thumb.png',0)\n",
    "im[im>0] = 1\n",
    "\n",
    "i1H = np.zeros((3,3))\n",
    "i1H[np.array([1,2,2,2]),np.array([1,0,1,2])] = 1\n",
    "i1M = np.zeros((3,3))\n",
    "i1M[np.array([0,0,0]),np.array([0,1,2])] = 1\n",
    "\n",
    "i2H = np.zeros((3,3))\n",
    "i2H[np.array([1,1,2,2]),np.array([0,1,0,1])] = 1\n",
    "i2M = np.zeros((3,3))\n",
    "i2M[np.array([0,0,1]),np.array([1,2,2])] = 1\n",
    "\n",
    "z_op = np.array([1,1])\n",
    "\n",
    "im_t = im.copy()\n",
    "for i in range(0,32):\n",
    "    im_op = (i1H,i1M)\n",
    "    im_t = thinning(im_t,im_op,z_op)\n",
    "    \n",
    "    if i<4:\n",
    "        plt.figure(figsize=(1,2))\n",
    "        plt.subplot(121),plt.imshow(im_op[0],cmap='gray',interpolation='none'),plt.xticks([]),plt.yticks([])\n",
    "        plt.subplot(122),plt.imshow(im_op[1],cmap='gray',interpolation='none'),plt.xticks([]),plt.yticks([])\n",
    "        plt.show()\n",
    "\n",
    "    im_op = (i2H,i2M)\n",
    "    im_t = thinning(im_t,im_op,z_op)\n",
    "\n",
    "    if i<4:\n",
    "        plt.figure(figsize=(1,2))\n",
    "        plt.subplot(121),plt.imshow(im_op[0],cmap='gray',interpolation='none'),plt.xticks([]),plt.yticks([])\n",
    "        plt.subplot(122),plt.imshow(im_op[1],cmap='gray',interpolation='none'),plt.xticks([]),plt.yticks([])\n",
    "        plt.show()\n",
    "\n",
    "    i1H = np.rot90(i1H,3)\n",
    "    i1M = np.rot90(i1M,3)\n",
    "    i2H = np.rot90(i2H,3)\n",
    "    i2M = np.rot90(i2M,3)\n",
    "\n",
    "plt.imshow(im,cmap='gray',interpolation='none'),plt.xticks([]),plt.yticks([])\n",
    "plt.show()\n",
    "\n",
    "plt.imshow(im_t,cmap='gray',interpolation='none'),plt.xticks([]),plt.yticks([])\n",
    "plt.show()\n"
   ]
  }
 ],
 "metadata": {
  "kernelspec": {
   "display_name": "Python 2",
   "language": "python",
   "name": "python2"
  },
  "language_info": {
   "codemirror_mode": {
    "name": "ipython",
    "version": 2
   },
   "file_extension": ".py",
   "mimetype": "text/x-python",
   "name": "python",
   "nbconvert_exporter": "python",
   "pygments_lexer": "ipython2",
   "version": "2.7.12"
  }
 },
 "nbformat": 4,
 "nbformat_minor": 0
}
